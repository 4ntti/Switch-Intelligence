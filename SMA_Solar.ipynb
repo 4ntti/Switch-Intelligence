{
  "nbformat": 4,
  "nbformat_minor": 0,
  "metadata": {
    "colab": {
      "name": "SMA Solar.ipynb",
      "provenance": [],
      "authorship_tag": "ABX9TyNcJBDRvzUhHtM6bPYSX0zr",
      "include_colab_link": true
    },
    "kernelspec": {
      "name": "python3",
      "display_name": "Python 3"
    },
    "language_info": {
      "name": "python"
    }
  },
  "cells": [
    {
      "cell_type": "markdown",
      "metadata": {
        "id": "view-in-github",
        "colab_type": "text"
      },
      "source": [
        "<a href=\"https://colab.research.google.com/github/4ntti/Switch-Intelligence/blob/main/SMA_Solar.ipynb\" target=\"_parent\"><img src=\"https://colab.research.google.com/assets/colab-badge.svg\" alt=\"Open In Colab\"/></a>"
      ]
    },
    {
      "cell_type": "code",
      "execution_count": 1,
      "metadata": {
        "id": "PyLmwtK7A1Fa",
        "colab": {
          "base_uri": "https://localhost:8080/"
        },
        "outputId": "d52d3f95-93b7-49d0-fe50-3cab1038b154"
      },
      "outputs": [
        {
          "output_type": "stream",
          "name": "stdout",
          "text": [
            "test\n"
          ]
        }
      ],
      "source": [
        "print(\"test\")"
      ]
    }
  ]
}